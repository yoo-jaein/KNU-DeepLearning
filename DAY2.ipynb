{
  "nbformat": 4,
  "nbformat_minor": 0,
  "metadata": {
    "colab": {
      "name": "Untitled2.ipynb",
      "version": "0.3.2",
      "provenance": [],
      "collapsed_sections": [],
      "include_colab_link": true
    },
    "kernelspec": {
      "name": "python3",
      "display_name": "Python 3"
    },
    "accelerator": "GPU"
  },
  "cells": [
    {
      "cell_type": "markdown",
      "metadata": {
        "id": "view-in-github",
        "colab_type": "text"
      },
      "source": [
        "<a href=\"https://colab.research.google.com/github/yoo-jaein/KNU-DeepLearning/blob/master/DAY2.ipynb\" target=\"_parent\"><img src=\"https://colab.research.google.com/assets/colab-badge.svg\" alt=\"Open In Colab\"/></a>"
      ]
    },
    {
      "metadata": {
        "id": "m8J01bUmLbVn",
        "colab_type": "code",
        "outputId": "016983f9-5d7a-4faa-f2d9-03268a83a1e5",
        "colab": {
          "base_uri": "https://localhost:8080/",
          "height": 55
        }
      },
      "cell_type": "code",
      "source": [
        "from google.colab import drive\n",
        "drive.mount('/content/gdrive')\n",
        "\n",
        "with open('/content/gdrive/My Drive/Colab Notebooks/fwtest.txt', 'w') as f:\n",
        "  f.write('Hello Google Drive!')"
      ],
      "execution_count": 0,
      "outputs": [
        {
          "output_type": "stream",
          "text": [
            "Drive already mounted at /content/gdrive; to attempt to forcibly remount, call drive.mount(\"/content/gdrive\", force_remount=True).\n"
          ],
          "name": "stdout"
        }
      ]
    },
    {
      "metadata": {
        "id": "Dx_IsDyMOT1l",
        "colab_type": "code",
        "outputId": "8f19efae-643e-4326-9847-cf805d4c8d33",
        "colab": {
          "base_uri": "https://localhost:8080/",
          "height": 89
        }
      },
      "cell_type": "code",
      "source": [
        "import tensorflow as tf\n",
        "import numpy as np\n",
        "sess = tf.Session()\n",
        "\n",
        "row_dim = 2\n",
        "col_dim = 3\n",
        "zero_tsr = tf.zeros([row_dim, col_dim])\n",
        "ones_tsr = tf.ones([row_dim, col_dim])\n",
        "filed_tsr = tf.fill([row_dim, col_dim], 42)\n",
        "constant_tsr = tf.constant([1,2,3])\n",
        "print(zero_tsr, '\\n', ones_tsr, '\\n', constant_tsr, '\\n')\n"
      ],
      "execution_count": 0,
      "outputs": [
        {
          "output_type": "stream",
          "text": [
            "Tensor(\"zeros_1:0\", shape=(2, 3), dtype=float32) \n",
            " Tensor(\"ones_1:0\", shape=(2, 3), dtype=float32) \n",
            " Tensor(\"Const:0\", shape=(3,), dtype=int32) \n",
            "\n"
          ],
          "name": "stdout"
        }
      ]
    },
    {
      "metadata": {
        "id": "c9mSRjxBSJ_z",
        "colab_type": "code",
        "outputId": "d4bd4171-4ef8-4318-d602-0cdc381f83bc",
        "colab": {
          "base_uri": "https://localhost:8080/",
          "height": 125
        }
      },
      "cell_type": "code",
      "source": [
        "# 최소와 최대 사이의 값이 나옴\n",
        "r = tf.random_uniform([row_dim, col_dim], minval=0, maxval=1)\n",
        "print(sess.run(r))\n",
        "\n",
        "# 대충 값이 맞지만 가끔 범위 밖의 값이 나옴\n",
        "r = tf.random_normal([row_dim, col_dim], mean=0.0, stddev=0.1)\n",
        "print(sess.run(r))\n",
        "\n",
        "# 어떤 범위에 반드시 들어가야 하는 경우\n",
        "r = tf.truncated_normal([row_dim, col_dim], mean=0.0, stddev=1.0)\n",
        "print(sess.run(r))"
      ],
      "execution_count": 0,
      "outputs": [
        {
          "output_type": "stream",
          "text": [
            "[[0.05002379 0.28603458 0.47077072]\n",
            " [0.02426314 0.41778374 0.20330763]]\n",
            "[[ 0.00287951  0.00281896 -0.08653779]\n",
            " [ 0.20608492  0.05877924  0.03286822]]\n",
            "[[-0.13442159 -1.5198      0.7112956 ]\n",
            " [-0.29887295 -0.0181323  -0.05184649]]\n"
          ],
          "name": "stdout"
        }
      ]
    },
    {
      "metadata": {
        "id": "w5jm60UwUPr8",
        "colab_type": "code",
        "outputId": "79c20f12-0f02-4e14-9bea-58ded27ba789",
        "colab": {
          "base_uri": "https://localhost:8080/",
          "height": 89
        }
      },
      "cell_type": "code",
      "source": [
        "# Variable로 선언해줄 경우 반드시 초기화해야 사용 가능\n",
        "var = tf.Variable(tf.zeros([2,3]))\n",
        "sess.run(var.initializer)\n",
        "print(sess.run(var))\n",
        "\n",
        "# Placeholder는 변하지 않는 값을 가지고 있는 변수\n",
        "# 아직 값은 들어있지 않지만 미리 셋업함\n",
        "x = tf.placeholder(tf.float32, shape=[2,2])\n",
        "# x를 y에 복사함\n",
        "y = tf.identity(x)\n",
        "x_vals = np.random.rand(2,2)\n",
        "# placeholder x에 x_vals를 넣는 방법\n",
        "sess.run(y, feed_dict={x: x_vals})"
      ],
      "execution_count": 0,
      "outputs": [
        {
          "output_type": "stream",
          "text": [
            "[[0. 0. 0.]\n",
            " [0. 0. 0.]]\n"
          ],
          "name": "stdout"
        },
        {
          "output_type": "execute_result",
          "data": {
            "text/plain": [
              "array([[0.94100934, 0.5807559 ],\n",
              "       [0.46932808, 0.8893119 ]], dtype=float32)"
            ]
          },
          "metadata": {
            "tags": []
          },
          "execution_count": 22
        }
      ]
    },
    {
      "metadata": {
        "id": "gLLxKSP7Vq7z",
        "colab_type": "code",
        "outputId": "539b4c95-9fe3-42f9-e0bc-9d413d2ae4c6",
        "colab": {
          "base_uri": "https://localhost:8080/",
          "height": 89
        }
      },
      "cell_type": "code",
      "source": [
        "import math as m\n",
        "\n",
        "my_var = tf.Variable(tf.zeros([2,3]))\n",
        "init_op = tf.global_variables_initializer()\n",
        "sess.run(init_op)\n",
        "print(sess.run(my_var))\n",
        "\n",
        "first_var = tf.Variable(tf.ones([2,3]))\n",
        "sess.run(first_var.initializer)\n",
        "print(sess.run(first_var))"
      ],
      "execution_count": 0,
      "outputs": [
        {
          "output_type": "stream",
          "text": [
            "[[0. 0. 0.]\n",
            " [0. 0. 0.]]\n",
            "[[1. 1. 1.]\n",
            " [1. 1. 1.]]\n"
          ],
          "name": "stdout"
        }
      ]
    },
    {
      "metadata": {
        "id": "wjGXC2m3WqQs",
        "colab_type": "code",
        "outputId": "4749eb5d-ee0f-48e4-a675-04dd98f2b3d8",
        "colab": {
          "base_uri": "https://localhost:8080/",
          "height": 197
        }
      },
      "cell_type": "code",
      "source": [
        "identity_matrix = tf.diag([1.0, 1.0, 1.0])\n",
        "A = tf.truncated_normal([2,3])\n",
        "B = tf.fill([2,3], 5.0)\n",
        "C = tf.random_uniform([3,2])\n",
        "\n",
        "print(sess.run(identity_matrix))\n",
        "print(sess.run(A))\n",
        "print(sess.run(B))\n",
        "print(sess.run(C))"
      ],
      "execution_count": 0,
      "outputs": [
        {
          "output_type": "stream",
          "text": [
            "[[1. 0. 0.]\n",
            " [0. 1. 0.]\n",
            " [0. 0. 1.]]\n",
            "[[-0.4373338   0.80445695  1.4930702 ]\n",
            " [ 0.27584556 -0.08421466  0.8345801 ]]\n",
            "[[5. 5. 5.]\n",
            " [5. 5. 5.]]\n",
            "[[0.8725312  0.85109746]\n",
            " [0.37555456 0.13634753]\n",
            " [0.01241684 0.534768  ]]\n"
          ],
          "name": "stdout"
        }
      ]
    },
    {
      "metadata": {
        "id": "mm6rqyw3Xbw0",
        "colab_type": "code",
        "outputId": "718049a8-ad8e-4879-ef54-01abc89beba2",
        "colab": {
          "base_uri": "https://localhost:8080/",
          "height": 71
        }
      },
      "cell_type": "code",
      "source": [
        "print(sess.run(tf.div(3,4)))\n",
        "print(sess.run(tf.truediv(3,4)))\n",
        "print(sess.run(tf.floordiv(3.0,4.0)))"
      ],
      "execution_count": 0,
      "outputs": [
        {
          "output_type": "stream",
          "text": [
            "0\n",
            "0.75\n",
            "0.0\n"
          ],
          "name": "stdout"
        }
      ]
    },
    {
      "metadata": {
        "id": "3_fTRihuYNud",
        "colab_type": "code",
        "outputId": "89f7f8d4-a897-4eec-cc80-d47bfdf5ae2a",
        "colab": {
          "base_uri": "https://localhost:8080/",
          "height": 53
        }
      },
      "cell_type": "code",
      "source": [
        "def my_circle(r):\n",
        "  return((m.pi*(r*r)))\n",
        "\n",
        "# 리턴값(float)으로 치환되므로 print(sess.run(my_circle(10)))으로 사용하면 안됨\n",
        "# sess.run()의 인자는 tensor만 가능함\n",
        "print(my_circle(10))\n",
        "print(sess.run(tf.cast(my_circle(10),tf.float32)))"
      ],
      "execution_count": 0,
      "outputs": [
        {
          "output_type": "stream",
          "text": [
            "314.1592653589793\n",
            "314.15927\n"
          ],
          "name": "stdout"
        }
      ]
    },
    {
      "metadata": {
        "id": "PaCJIxpfZE_k",
        "colab_type": "code",
        "outputId": "f979d66c-05b4-4b6f-f772-d7b1f3bab2a9",
        "colab": {
          "base_uri": "https://localhost:8080/",
          "height": 401
        }
      },
      "cell_type": "code",
      "source": [
        "import matplotlib.pyplot as plt\n",
        "import tensorflow.nn as nn\n",
        "\n",
        "x = tf.linspace(start=-7.0, stop=7.0, num=15)\n",
        "print(x)\n",
        "print(sess.run(x))\n",
        "\n",
        "y1 = nn.relu(x)\n",
        "plt.plot(sess.run(x), sess.run(y1), label='ReLU')\n",
        "\n",
        "y2 = nn.relu6(x)\n",
        "plt.plot(sess.run(x), sess.run(y2), label='ReLU6')\n",
        "\n",
        "y3 = nn.sigmoid(x)\n",
        "plt.plot(sess.run(x), sess.run(y3), label='Sigmoid')\n",
        "\n",
        "y4 = nn.tanh(x)\n",
        "plt.plot(sess.run(x), sess.run(y4), label='tanh')\n",
        "\n",
        "y5 = nn.softsign(x)\n",
        "plt.plot(sess.run(x), sess.run(y5), label='Softsign')\n",
        "\n",
        "y6 = nn.softplus(x)\n",
        "plt.plot(sess.run(x), sess.run(y6), label='Softplus')\n",
        "\n",
        "y7 = nn.elu(x)\n",
        "plt.plot(sess.run(x), sess.run(y7), label='elu')\n",
        "\n",
        "plt.legend(loc='lower right')"
      ],
      "execution_count": 0,
      "outputs": [
        {
          "output_type": "stream",
          "text": [
            "Tensor(\"LinSpace_5:0\", shape=(15,), dtype=float32)\n",
            "[-7. -6. -5. -4. -3. -2. -1.  0.  1.  2.  3.  4.  5.  6.  7.]\n"
          ],
          "name": "stdout"
        },
        {
          "output_type": "execute_result",
          "data": {
            "text/plain": [
              "<matplotlib.legend.Legend at 0x7f4d2cd340f0>"
            ]
          },
          "metadata": {
            "tags": []
          },
          "execution_count": 42
        },
        {
          "output_type": "display_data",
          "data": {
            "image/png": "[encoded data removed]",
            "text/plain": [
              "<Figure size 576x396 with 1 Axes>"
            ]
          },
          "metadata": {
            "tags": []
          }
        }
      ]
    },
    {
      "metadata": {
        "id": "OWFvFz3jaw9G",
        "colab_type": "code",
        "outputId": "783999ab-f9fc-4a67-99bc-618c2dfacb07",
        "colab": {
          "base_uri": "https://localhost:8080/",
          "height": 251
        }
      },
      "cell_type": "code",
      "source": [
        "# Layering Nested Operations\n",
        "# Placeholder -(const)> Matmul -(const_1)> Matmul1 -(const_2)> Add\n",
        "my_array = np.array([[1., 3., 5., 7., 9.], [-2., 0., 2., 4., 6.], [-6., -3., 0., 3., 6.]])\n",
        "x_vals = np.array([my_array, my_array+1])\n",
        "print(x_vals)\n",
        "\n",
        "x_data = tf.placeholder(tf.float32, shape = np.shape(my_array)) # 3 X 5\n",
        "\n",
        "m1 = tf.constant([[1.],[0.],[-1.],[2.],[4]]) # 5 X 1\n",
        "m2 = tf.constant([[2.]]) # 1 X 1\n",
        "a1 = tf.constant([[10.]]) # 1 X 1\n",
        "\n",
        "prod1 = tf.matmul(x_data, m1)\n",
        "prod2 = tf.matmul(prod1, m2)\n",
        "add1 = tf.add(prod2, a1)\n",
        "\n",
        "for x_val in x_vals:\n",
        "  print(sess.run(add1, feed_dict = {x_data:x_val})) # 3 X 2"
      ],
      "execution_count": 0,
      "outputs": [
        {
          "output_type": "stream",
          "text": [
            "[[[ 1.  3.  5.  7.  9.]\n",
            "  [-2.  0.  2.  4.  6.]\n",
            "  [-6. -3.  0.  3.  6.]]\n",
            "\n",
            " [[ 2.  4.  6.  8. 10.]\n",
            "  [-1.  1.  3.  5.  7.]\n",
            "  [-5. -2.  1.  4.  7.]]]\n",
            "[[102.]\n",
            " [ 66.]\n",
            " [ 58.]]\n",
            "[[114.]\n",
            " [ 78.]\n",
            " [ 70.]]\n"
          ],
          "name": "stdout"
        }
      ]
    },
    {
      "metadata": {
        "id": "o-AAtSR0h_z5",
        "colab_type": "code",
        "outputId": "d32c8f87-5747-41e1-a6bc-fd502df34cea",
        "colab": {
          "base_uri": "https://localhost:8080/",
          "height": 53
        }
      },
      "cell_type": "code",
      "source": [
        "# classification loss for multiple classes\n",
        "# softmax cross-entropy loss\n",
        "unscaled_logits = tf.constant([[1., -3., 10.]])\n",
        "target_dist = tf.constant([[0.1, 0.02, 0.88]])\n",
        "softmax_xentropy = tf.nn.softmax_cross_entropy_with_logits(labels=target_dist, logits=unscaled_logits)\n",
        "print(sess.run(softmax_xentropy))\n",
        "\n",
        "# sparse softmax cross-entropy loss (one-hot version --> label output)\n",
        "unscaled_logits = tf.constant([[1., -3., 10.]])\n",
        "sparse_target_dist = tf.constant([1])\n",
        "sparse_xentropy = tf.nn.sparse_softmax_cross_entropy_with_logits(labels=sparse_target_dist, logits=unscaled_logits)\n",
        "print(sess.run(sparse_xentropy))"
      ],
      "execution_count": 0,
      "outputs": [
        {
          "output_type": "stream",
          "text": [
            "[1.1601256]\n",
            "[13.000126]\n"
          ],
          "name": "stdout"
        }
      ]
    },
    {
      "metadata": {
        "id": "bf9OVr_soG-y",
        "colab_type": "code",
        "outputId": "956a69d5-8d96-4aef-b287-75718167ac4c",
        "colab": {
          "base_uri": "https://localhost:8080/",
          "height": 1265
        }
      },
      "cell_type": "code",
      "source": [
        "# Simple Perceptron : XOR\n",
        "# Data setup\n",
        "x_data = np.array([[0,0],[1,0],[1,1],[0,1]])\n",
        "y_data = np.array([[0],[1],[0],[1]])\n",
        "\n",
        "# Model setting\n",
        "X = tf.placeholder(tf.float32)\n",
        "Y = tf.placeholder(tf.float32)\n",
        "\n",
        "W = tf.Variable(tf.random_uniform([2,1],-1.,1.)) # -1에서 1 사이로 랜덤 2X1\n",
        "b = tf.Variable(tf.zeros([1]))\n",
        "\n",
        "L = tf.add(tf.matmul(X,W),b)\n",
        "L = tf.nn.sigmoid(L)\n",
        "\n",
        "# loss and optimizer definition\n",
        "loss = nn.l2_loss(Y-L)\n",
        "\n",
        "optimizer = tf.train.GradientDescentOptimizer(learning_rate=0.1)\n",
        "train_op = optimizer.minimize(loss)\n",
        "\n",
        "# initialize and learn\n",
        "init = tf.global_variables_initializer()\n",
        "\n",
        "sess.run(init)\n",
        "\n",
        "loss_step=[]\n",
        "\n",
        "for i in range(5000): # 5000번 학습한다\n",
        "  sess.run(train_op, feed_dict={X:x_data, Y:y_data})\n",
        "  if (i+1)%100 == 0: # 100번 돌 때마다 출력한다\n",
        "    temp_loss = sess.run(loss, feed_dict={X:x_data, Y:y_data})\n",
        "    print(i+1, temp_loss)\n",
        "    loss_step.append(temp_loss)\n",
        "    \n",
        "# 오차 그래프 : 약 50%\n",
        "plt.plot(loss_step)"
      ],
      "execution_count": 0,
      "outputs": [
        {
          "output_type": "stream",
          "text": [
            "100 0.5030851\n",
            "200 0.5013206\n",
            "300 0.5005783\n",
            "400 0.500256\n",
            "500 0.5001143\n",
            "600 0.5000514\n",
            "700 0.50002325\n",
            "800 0.5000105\n",
            "900 0.50000477\n",
            "1000 0.50000215\n",
            "1100 0.50000095\n",
            "1200 0.5000005\n",
            "1300 0.5000002\n",
            "1400 0.50000006\n",
            "1500 0.5\n",
            "1600 0.5\n",
            "1700 0.49999997\n",
            "1800 0.5\n",
            "1900 0.5\n",
            "2000 0.5\n",
            "2100 0.5\n",
            "2200 0.5\n",
            "2300 0.5\n",
            "2400 0.5\n",
            "2500 0.49999997\n",
            "2600 0.49999994\n",
            "2700 0.5\n",
            "2800 0.5\n",
            "2900 0.49999994\n",
            "3000 0.5\n",
            "3100 0.5\n",
            "3200 0.5\n",
            "3300 0.5\n",
            "3400 0.49999994\n",
            "3500 0.49999994\n",
            "3600 0.49999994\n",
            "3700 0.49999997\n",
            "3800 0.49999994\n",
            "3900 0.49999997\n",
            "4000 0.5\n",
            "4100 0.49999997\n",
            "4200 0.5\n",
            "4300 0.5\n",
            "4400 0.5\n",
            "4500 0.5\n",
            "4600 0.5\n",
            "4700 0.5\n",
            "4800 0.5\n",
            "4900 0.5\n",
            "5000 0.5\n"
          ],
          "name": "stdout"
        },
        {
          "output_type": "execute_result",
          "data": {
            "text/plain": [
              "[<matplotlib.lines.Line2D at 0x7f4d2c758be0>]"
            ]
          },
          "metadata": {
            "tags": []
          },
          "execution_count": 59
        },
        {
          "output_type": "display_data",
          "data": {
            "image/png": "[encoded data removed]",
            "text/plain": [
              "<Figure size 576x396 with 1 Axes>"
            ]
          },
          "metadata": {
            "tags": []
          }
        }
      ]
    },
    {
      "metadata": {
        "id": "moWzvzOFppRz",
        "colab_type": "code",
        "outputId": "aff5fbed-2849-4dd7-e84c-5ee1f6e4b6cf",
        "colab": {
          "base_uri": "https://localhost:8080/",
          "height": 1265
        }
      },
      "cell_type": "code",
      "source": [
        "# Simple Multiple Layer Perceptron : XOR\n",
        "\n",
        "# Data setup\n",
        "x_data = np.array([[0,0],[1,0],[1,1],[0,1]])\n",
        "y_data = np.array([[0],[1],[0],[1]])\n",
        "\n",
        "# Model setting\n",
        "X = tf.placeholder(tf.float32)\n",
        "Y = tf.placeholder(tf.float32)\n",
        "\n",
        "# 5개의 hidden node\n",
        "W1 = tf.Variable(tf.random_uniform([2,5],-1.,1.)) # -1에서 1 사이로 랜덤 2X1\n",
        "b1 = tf.Variable(tf.zeros([5]))\n",
        "\n",
        "W2 = tf.Variable(tf.random_uniform([5,1],-1.,1.))\n",
        "b2 = tf.Variable(tf.zeros([1]))\n",
        "\n",
        "H = tf.nn.relu(tf.add(tf.matmul(X,W1),b1))\n",
        "\n",
        "L = tf.nn.sigmoid(tf.add(tf.matmul(H,W2),b2))\n",
        "\n",
        "# loss and optimizer definition\n",
        "loss = nn.l2_loss(Y-L)\n",
        "\n",
        "optimizer = tf.train.GradientDescentOptimizer(learning_rate=0.1)\n",
        "train_op = optimizer.minimize(loss)\n",
        "\n",
        "# initialize and learn\n",
        "init = tf.global_variables_initializer()\n",
        "\n",
        "sess.run(init)\n",
        "\n",
        "loss_step=[]\n",
        "\n",
        "for i in range(5000): # 5000번 학습한다\n",
        "  sess.run(train_op, feed_dict={X:x_data, Y:y_data})\n",
        "  if (i+1)%100 == 0: # 100번 돌 때마다 출력한다\n",
        "    temp_loss = sess.run(loss, feed_dict={X:x_data, Y:y_data})\n",
        "    print(i+1, temp_loss)\n",
        "    loss_step.append(temp_loss)\n",
        "    \n",
        "# 오차 그래프 \n",
        "plt.plot(loss_step)"
      ],
      "execution_count": 0,
      "outputs": [
        {
          "output_type": "stream",
          "text": [
            "100 0.2329278\n",
            "200 0.09590691\n",
            "300 0.047121186\n",
            "400 0.027708225\n",
            "500 0.018528689\n",
            "600 0.013458945\n",
            "700 0.010341898\n",
            "800 0.008278183\n",
            "900 0.0068247775\n",
            "1000 0.005774034\n",
            "1100 0.0049686097\n",
            "1200 0.004346919\n",
            "1300 0.003846136\n",
            "1400 0.0034398644\n",
            "1500 0.0031047538\n",
            "1600 0.0028218902\n",
            "1700 0.0025838437\n",
            "1800 0.0023788908\n",
            "1900 0.0022013448\n",
            "2000 0.0020463765\n",
            "2100 0.0019103017\n",
            "2200 0.0017891026\n",
            "2300 0.0016813838\n",
            "2400 0.0015850274\n",
            "2500 0.0014980186\n",
            "2600 0.0014192577\n",
            "2700 0.0013480862\n",
            "2800 0.0012828978\n",
            "2900 0.001223114\n",
            "3000 0.0011681512\n",
            "3100 0.0011178268\n",
            "3200 0.0010713069\n",
            "3300 0.0010278673\n",
            "3400 0.000987615\n",
            "3500 0.0009503886\n",
            "3600 0.0009155865\n",
            "3700 0.0008829123\n",
            "3800 0.0008524199\n",
            "3900 0.0008237349\n",
            "4000 0.0007967494\n",
            "4100 0.0007714691\n",
            "4200 0.00074754655\n",
            "4300 0.0007249721\n",
            "4400 0.00070360134\n",
            "4500 0.0006834286\n",
            "4600 0.0006641754\n",
            "4700 0.0006460139\n",
            "4800 0.0006287609\n",
            "4900 0.00061219186\n",
            "5000 0.00059652317\n"
          ],
          "name": "stdout"
        },
        {
          "output_type": "execute_result",
          "data": {
            "text/plain": [
              "[<matplotlib.lines.Line2D at 0x7f4d2c5b9fd0>]"
            ]
          },
          "metadata": {
            "tags": []
          },
          "execution_count": 61
        },
        {
          "output_type": "display_data",
          "data": {
            "image/png": "[encoded data removed]",
            "text/plain": [
              "<Figure size 576x396 with 1 Axes>"
            ]
          },
          "metadata": {
            "tags": []
          }
        }
      ]
    },
    {
      "metadata": {
        "id": "593cvQyNsZVz",
        "colab_type": "code",
        "outputId": "99a295a3-7513-49ce-afc0-5e38345691a4",
        "colab": {
          "base_uri": "https://localhost:8080/",
          "height": 2165
        }
      },
      "cell_type": "code",
      "source": [
        "# Iris Data Regression\n",
        "# 실수 3개를 입력으로 주고 실수 1개를 출력으로 주는 Regression\n",
        "from sklearn import datasets\n",
        "\n",
        "# data setup\n",
        "iris = datasets.load_iris()\n",
        "x_vals = np.array([x[0:3] for x in iris.data]) # input\n",
        "y_vals = np.array([x[3] for x in iris.data]) # target_output\n",
        "\n",
        "# 80% for training, 20% for test\n",
        "train_indices = np.random.choice(len(x_vals), round(len(x_vals)*0.8), replace=False)\n",
        "test_indices = np.array(list(set(range(len(x_vals))) - set(train_indices)))\n",
        "x_vals_train = x_vals[train_indices]\n",
        "x_vals_test = x_vals[test_indices]\n",
        "y_vals_train = y_vals[train_indices]\n",
        "y_vals_test = y_vals[test_indices]\n",
        "\n",
        "# input data normalization (from -1 to 1)\n",
        "def normalize_cols(m):\n",
        "  col_max = m.max(axis=0)\n",
        "  col_min = m.min(axis=0)\n",
        "  return (m-col_min)/(col_max - col_min)\n",
        "\n",
        "x_vals_train = np.nan_to_num(normalize_cols(x_vals_train))\n",
        "x_vals_test = np.nan_to_num(normalize_cols(x_vals_test))\n",
        "\n",
        "# model setup\n",
        "x_data = tf.placeholder(shape=[None,3], dtype=tf.float32)\n",
        "y_target = tf.placeholder(shape=[None,1], dtype=tf.float32)\n",
        "\n",
        "H_nodes = 10\n",
        "\n",
        "W1 = tf.Variable(tf.random_normal(shape=[3,H_nodes]))\n",
        "b1 = tf.Variable(tf.random_normal(shape=[H_nodes]))\n",
        "\n",
        "W2 = tf.Variable(tf.random_normal(shape=[H_nodes,1]))\n",
        "b2 = tf.Variable(tf.random_normal(shape=[1]))\n",
        "\n",
        "H_out = tf.nn.sigmoid(tf.add(tf.matmul(x_data,W1),b1))\n",
        "L_out = tf.nn.relu(tf.add(tf.matmul(H_out,W2),b2))\n",
        "\n",
        "# loss and optimizer definition\n",
        "loss = tf.reduce_mean(tf.square(y_target - L_out))\n",
        "\n",
        "optimizer = tf.train.GradientDescentOptimizer(0.0001)\n",
        "train_op = optimizer.minimize(loss)\n",
        "\n",
        "# Running session\n",
        "sess = tf.Session()\n",
        "init = tf.global_variables_initializer()\n",
        "sess.run(init)\n",
        "\n",
        "loss_vec = []\n",
        "test_loss = []\n",
        "for i in range(10000):\n",
        "  sess.run(train_op, feed_dict={x_data:x_vals_train, y_target:np.transpose([y_vals_train])})\n",
        "  \n",
        "  temp_loss = sess.run(loss, feed_dict={x_data:x_vals_train, y_target:np.transpose([y_vals_train])})\n",
        "  loss_vec.append(np.sqrt(temp_loss))\n",
        "  \n",
        "  test_temp_loss = sess.run(loss, feed_dict={x_data:x_vals_test, y_target:np.transpose([y_vals_test])})\n",
        "  test_loss.append(np.sqrt(test_temp_loss))\n",
        "  \n",
        "  if (i+1)%100 == 0:\n",
        "    print(i+1, temp_loss, test_temp_loss)\n",
        "    \n",
        "plt.plot(loss_vec, label='train loss')\n",
        "plt.plot(test_loss, label='test loss')\n",
        "plt.legend()"
      ],
      "execution_count": 0,
      "outputs": [
        {
          "output_type": "stream",
          "text": [
            "100 2.123731 2.5374217\n",
            "200 1.8265884 2.2127337\n",
            "300 1.5833195 1.9432406\n",
            "400 1.3840042 1.7191331\n",
            "500 1.2205797 1.5324045\n",
            "600 1.0864828 1.3765057\n",
            "700 0.976372 1.2460799\n",
            "800 0.88588923 1.1367313\n",
            "900 0.811475 1.0448468\n",
            "1000 0.75021976 0.9674532\n",
            "1100 0.6997483 0.9021052\n",
            "1200 0.6581148 0.8467834\n",
            "1300 0.62372816 0.7998213\n",
            "1400 0.5952841 0.75983983\n",
            "1500 0.57171535 0.72569877\n",
            "1600 0.552147 0.69645226\n",
            "1700 0.53586125 0.6713146\n",
            "1800 0.5222702 0.6496334\n",
            "1900 0.5108917 0.63086593\n",
            "2000 0.50132936 0.6145585\n",
            "2100 0.49325955 0.6003343\n",
            "2200 0.48641527 0.5878767\n",
            "2300 0.48057795 0.5769209\n",
            "2400 0.47556815 0.5672451\n",
            "2500 0.47123826 0.55866206\n",
            "2600 0.46746776 0.5510149\n",
            "2700 0.4641569 0.54417104\n",
            "2800 0.46122456 0.53801835\n",
            "2900 0.4586034 0.5324619\n",
            "3000 0.45623887 0.5274211\n",
            "3100 0.45408517 0.5228265\n",
            "3200 0.45210585 0.51862085\n",
            "3300 0.4502698 0.5147534\n",
            "3400 0.44855255 0.5111814\n",
            "3500 0.44693342 0.507868\n",
            "3600 0.44539514 0.504782\n",
            "3700 0.44392428 0.5018957\n",
            "3800 0.44250906 0.49918523\n",
            "3900 0.44114095 0.4966307\n",
            "4000 0.43981063 0.49421328\n",
            "4100 0.4385129 0.49191818\n",
            "4200 0.43724295 0.48973247\n",
            "4300 0.4359956 0.48764357\n",
            "4400 0.4347675 0.48564056\n",
            "4500 0.43355623 0.4837148\n",
            "4600 0.4323597 0.48185953\n",
            "4700 0.43117505 0.4800658\n",
            "4800 0.43000036 0.47832698\n",
            "4900 0.42883494 0.4766397\n",
            "5000 0.42767814 0.47499743\n",
            "5100 0.42652845 0.4733957\n",
            "5200 0.42538553 0.47183168\n",
            "5300 0.4242483 0.4703015\n",
            "5400 0.4231169 0.4688025\n",
            "5500 0.4219909 0.46733138\n",
            "5600 0.42086965 0.4658855\n",
            "5700 0.41975272 0.46446416\n",
            "5800 0.41864032 0.46306306\n",
            "5900 0.41753215 0.46168226\n",
            "6000 0.41642788 0.46031934\n",
            "6100 0.41532743 0.45897427\n",
            "6200 0.41423002 0.45764443\n",
            "6300 0.41313612 0.45632687\n",
            "6400 0.41204515 0.45502198\n",
            "6500 0.41095677 0.453731\n",
            "6600 0.4098714 0.452449\n",
            "6700 0.40879026 0.45117703\n",
            "6800 0.40771228 0.44991544\n",
            "6900 0.40663716 0.44866362\n",
            "7000 0.40556523 0.44741982\n",
            "7100 0.40449607 0.44618505\n",
            "7200 0.40343043 0.44495964\n",
            "7300 0.40236676 0.44374016\n",
            "7400 0.40130553 0.44252846\n",
            "7500 0.40024728 0.4413207\n",
            "7600 0.39919224 0.4401193\n",
            "7700 0.39814013 0.43892363\n",
            "7800 0.39709073 0.43773296\n",
            "7900 0.39604405 0.4365484\n",
            "8000 0.39500007 0.43536916\n",
            "8100 0.39395934 0.434194\n",
            "8200 0.39292336 0.4330263\n",
            "8300 0.39189002 0.43186262\n",
            "8400 0.39085957 0.4306999\n",
            "8500 0.38983065 0.42954305\n",
            "8600 0.3888043 0.42839164\n",
            "8700 0.3877815 0.4272457\n",
            "8800 0.38676083 0.42610246\n",
            "8900 0.3857427 0.42496204\n",
            "9000 0.38472745 0.42382723\n",
            "9100 0.38371554 0.42269638\n",
            "9200 0.38270658 0.42156968\n",
            "9300 0.38170007 0.4204473\n",
            "9400 0.38069552 0.41932684\n",
            "9500 0.37969342 0.41820893\n",
            "9600 0.3786947 0.41709748\n",
            "9700 0.37769872 0.41598952\n",
            "9800 0.37670532 0.41488355\n",
            "9900 0.3757154 0.41377872\n",
            "10000 0.37472776 0.41267678\n"
          ],
          "name": "stdout"
        },
        {
          "output_type": "execute_result",
          "data": {
            "text/plain": [
              "<matplotlib.legend.Legend at 0x7f4d47ec5908>"
            ]
          },
          "metadata": {
            "tags": []
          },
          "execution_count": 67
        },
        {
          "output_type": "display_data",
          "data": {
            "image/png": "[encoded data removed]",
            "text/plain": [
              "<Figure size 576x396 with 1 Axes>"
            ]
          },
          "metadata": {
            "tags": []
          }
        }
      ]
    },
    {
      "metadata": {
        "id": "qNMBtX4DwuR9",
        "colab_type": "code",
        "colab": {}
      },
      "cell_type": "code",
      "source": [
        ""
      ],
      "execution_count": 0,
      "outputs": []
    }
  ]
}